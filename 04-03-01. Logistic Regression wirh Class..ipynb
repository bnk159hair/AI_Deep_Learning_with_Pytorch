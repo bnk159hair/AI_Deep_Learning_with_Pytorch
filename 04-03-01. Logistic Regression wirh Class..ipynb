{
 "cells": [
  {
   "cell_type": "markdown",
   "id": "87989b15",
   "metadata": {},
   "source": [
    "# 클래스로 파이토치 모델 구현하기"
   ]
  },
  {
   "cell_type": "code",
   "execution_count": 1,
   "id": "7cabc02d",
   "metadata": {},
   "outputs": [],
   "source": [
    "import torch\n",
    "import torch.nn as nn\n",
    "import torch.nn.functional as F\n",
    "import torch.optim as optim"
   ]
  },
  {
   "cell_type": "code",
   "execution_count": 2,
   "id": "c10003c7",
   "metadata": {},
   "outputs": [
    {
     "data": {
      "text/plain": [
       "<torch._C.Generator at 0x1cba58012d0>"
      ]
     },
     "execution_count": 2,
     "metadata": {},
     "output_type": "execute_result"
    }
   ],
   "source": [
    "torch.manual_seed(1)"
   ]
  },
  {
   "cell_type": "code",
   "execution_count": 3,
   "id": "9efee2e5",
   "metadata": {},
   "outputs": [],
   "source": [
    "x_data= [[1, 2], [2, 3], [3, 1], [4, 3], [5, 3], [6, 2]]\n",
    "y_data = [[0], [0], [0], [1], [1], [1]]\n",
    "x_train = torch.FloatTensor(x_data)\n",
    "y_train = torch.FloatTensor(y_data)"
   ]
  },
  {
   "cell_type": "code",
   "execution_count": 6,
   "id": "2d675159",
   "metadata": {},
   "outputs": [],
   "source": [
    "class BinaryClassifier(nn.Module):\n",
    "    def __init__(self):\n",
    "        super().__init__()\n",
    "        self.linear = nn.Linear(2,1)\n",
    "        self.sigmoid = nn.Sigmoid()\n",
    "    \n",
    "    def forward(self, x):\n",
    "        return self.sigmoid(self.linear(x))"
   ]
  },
  {
   "cell_type": "code",
   "execution_count": 7,
   "id": "93a05837",
   "metadata": {},
   "outputs": [],
   "source": [
    "model = BinaryClassifier()"
   ]
  },
  {
   "cell_type": "code",
   "execution_count": 17,
   "id": "1d86d870",
   "metadata": {},
   "outputs": [
    {
     "name": "stdout",
     "output_type": "stream",
     "text": [
      "Epoch    0/1000 Cost: P0.003030 Accuracy 100.00%\n",
      "Epoch   20/1000 Cost: P0.003022 Accuracy 100.00%\n",
      "Epoch   40/1000 Cost: P0.003013 Accuracy 100.00%\n",
      "Epoch   60/1000 Cost: P0.003005 Accuracy 100.00%\n",
      "Epoch   80/1000 Cost: P0.002997 Accuracy 100.00%\n",
      "Epoch  100/1000 Cost: P0.002988 Accuracy 100.00%\n",
      "Epoch  120/1000 Cost: P0.002980 Accuracy 100.00%\n",
      "Epoch  140/1000 Cost: P0.002972 Accuracy 100.00%\n",
      "Epoch  160/1000 Cost: P0.002964 Accuracy 100.00%\n",
      "Epoch  180/1000 Cost: P0.002956 Accuracy 100.00%\n",
      "Epoch  200/1000 Cost: P0.002947 Accuracy 100.00%\n",
      "Epoch  220/1000 Cost: P0.002939 Accuracy 100.00%\n",
      "Epoch  240/1000 Cost: P0.002931 Accuracy 100.00%\n",
      "Epoch  260/1000 Cost: P0.002923 Accuracy 100.00%\n",
      "Epoch  280/1000 Cost: P0.002915 Accuracy 100.00%\n",
      "Epoch  300/1000 Cost: P0.002908 Accuracy 100.00%\n",
      "Epoch  320/1000 Cost: P0.002900 Accuracy 100.00%\n",
      "Epoch  340/1000 Cost: P0.002892 Accuracy 100.00%\n",
      "Epoch  360/1000 Cost: P0.002884 Accuracy 100.00%\n",
      "Epoch  380/1000 Cost: P0.002876 Accuracy 100.00%\n",
      "Epoch  400/1000 Cost: P0.002869 Accuracy 100.00%\n",
      "Epoch  420/1000 Cost: P0.002861 Accuracy 100.00%\n",
      "Epoch  440/1000 Cost: P0.002854 Accuracy 100.00%\n",
      "Epoch  460/1000 Cost: P0.002846 Accuracy 100.00%\n",
      "Epoch  480/1000 Cost: P0.002838 Accuracy 100.00%\n",
      "Epoch  500/1000 Cost: P0.002831 Accuracy 100.00%\n",
      "Epoch  520/1000 Cost: P0.002824 Accuracy 100.00%\n",
      "Epoch  540/1000 Cost: P0.002816 Accuracy 100.00%\n",
      "Epoch  560/1000 Cost: P0.002809 Accuracy 100.00%\n",
      "Epoch  580/1000 Cost: P0.002802 Accuracy 100.00%\n",
      "Epoch  600/1000 Cost: P0.002794 Accuracy 100.00%\n",
      "Epoch  620/1000 Cost: P0.002787 Accuracy 100.00%\n",
      "Epoch  640/1000 Cost: P0.002780 Accuracy 100.00%\n",
      "Epoch  660/1000 Cost: P0.002773 Accuracy 100.00%\n",
      "Epoch  680/1000 Cost: P0.002766 Accuracy 100.00%\n",
      "Epoch  700/1000 Cost: P0.002758 Accuracy 100.00%\n",
      "Epoch  720/1000 Cost: P0.002751 Accuracy 100.00%\n",
      "Epoch  740/1000 Cost: P0.002744 Accuracy 100.00%\n",
      "Epoch  760/1000 Cost: P0.002737 Accuracy 100.00%\n",
      "Epoch  780/1000 Cost: P0.002730 Accuracy 100.00%\n",
      "Epoch  800/1000 Cost: P0.002723 Accuracy 100.00%\n",
      "Epoch  820/1000 Cost: P0.002717 Accuracy 100.00%\n",
      "Epoch  840/1000 Cost: P0.002710 Accuracy 100.00%\n",
      "Epoch  860/1000 Cost: P0.002703 Accuracy 100.00%\n",
      "Epoch  880/1000 Cost: P0.002696 Accuracy 100.00%\n",
      "Epoch  900/1000 Cost: P0.002689 Accuracy 100.00%\n",
      "Epoch  920/1000 Cost: P0.002683 Accuracy 100.00%\n",
      "Epoch  940/1000 Cost: P0.002676 Accuracy 100.00%\n",
      "Epoch  960/1000 Cost: P0.002669 Accuracy 100.00%\n",
      "Epoch  980/1000 Cost: P0.002663 Accuracy 100.00%\n",
      "Epoch 1000/1000 Cost: P0.002656 Accuracy 100.00%\n"
     ]
    }
   ],
   "source": [
    "# optimizer 설정\n",
    "optimizer = optim.SGD(model.parameters(), lr=1)\n",
    "\n",
    "nb_epochs = 1000\n",
    "for epoch in range(nb_epochs+1):\n",
    "    \n",
    "    # H(x) 계산\n",
    "    hypothesis = model(x_train)\n",
    "    \n",
    "    # cost 계산\n",
    "    cost = F.binary_cross_entropy(hypothesis, y_train)\n",
    "    \n",
    "    # cost로 H(x) 개선\n",
    "    optimizer.zero_grad()\n",
    "    cost.backward()\n",
    "    optimizer.step()\n",
    "    \n",
    "    # 20번마다 로그 출력\n",
    "    \n",
    "    if epoch % 20 ==0:\n",
    "        \n",
    "        prediction = hypothesis >= torch.FloatTensor([0.5])\n",
    "        # 예측값이 0.5를 넘으면 True로 간주하여 prediction에 저장\n",
    "        \n",
    "        correct_prediction = prediction.float() == y_train\n",
    "        #실제 값과 일치하는 경우만 True로 간주\n",
    "        \n",
    "        accuracy = correct_prediction.sum().item() / len(correct_prediction)\n",
    "        #정확도를 계산\n",
    "        print('Epoch {:4d}/{} Cost: P{:.6f} Accuracy {:2.2f}%'.format(\n",
    "        epoch, nb_epochs, cost.item(), accuracy*100))"
   ]
  },
  {
   "cell_type": "code",
   "execution_count": null,
   "id": "15659ab7",
   "metadata": {},
   "outputs": [],
   "source": []
  }
 ],
 "metadata": {
  "kernelspec": {
   "display_name": "Python 3",
   "language": "python",
   "name": "python3"
  },
  "language_info": {
   "codemirror_mode": {
    "name": "ipython",
    "version": 3
   },
   "file_extension": ".py",
   "mimetype": "text/x-python",
   "name": "python",
   "nbconvert_exporter": "python",
   "pygments_lexer": "ipython3",
   "version": "3.8.11"
  }
 },
 "nbformat": 4,
 "nbformat_minor": 5
}
