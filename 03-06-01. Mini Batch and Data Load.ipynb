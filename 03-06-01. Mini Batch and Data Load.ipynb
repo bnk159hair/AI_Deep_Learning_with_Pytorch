{
 "cells": [
  {
   "cell_type": "code",
   "execution_count": 1,
   "id": "f84e75e8",
   "metadata": {},
   "outputs": [],
   "source": [
    "import torch\n",
    "import torch.nn as nn\n",
    "import torch.nn.functional as F"
   ]
  },
  {
   "cell_type": "code",
   "execution_count": 2,
   "id": "2d29465f",
   "metadata": {},
   "outputs": [],
   "source": [
    "from torch.utils.data import TensorDataset # 텐서데이터셋\n",
    "from torch.utils.data import DataLoader # 데이터로더"
   ]
  },
  {
   "cell_type": "code",
   "execution_count": 3,
   "id": "287fe5a1",
   "metadata": {},
   "outputs": [],
   "source": [
    "x_train  =  torch.FloatTensor([[73,  80,  75], \n",
    "                               [93,  88,  93], \n",
    "                               [89,  91,  90], \n",
    "                               [96,  98,  100],   \n",
    "                               [73,  66,  70]])  \n",
    "y_train  =  torch.FloatTensor([[152],  [185],  [180],  [196],  [142]])"
   ]
  },
  {
   "cell_type": "code",
   "execution_count": 4,
   "id": "922e44af",
   "metadata": {},
   "outputs": [],
   "source": [
    "dataset = TensorDataset(x_train, y_train)"
   ]
  },
  {
   "cell_type": "code",
   "execution_count": 5,
   "id": "1c7caf9b",
   "metadata": {},
   "outputs": [],
   "source": [
    "dataloader = DataLoader(dataset, batch_size = 2, shuffle=True)"
   ]
  },
  {
   "cell_type": "code",
   "execution_count": 6,
   "id": "4067548e",
   "metadata": {},
   "outputs": [],
   "source": [
    "model = nn.Linear(3,1)\n",
    "optimizer = torch.optim.SGD(model.parameters(), lr=1e-5)"
   ]
  },
  {
   "cell_type": "code",
   "execution_count": 13,
   "id": "f4019350",
   "metadata": {},
   "outputs": [
    {
     "name": "stdout",
     "output_type": "stream",
     "text": [
      "Epoch    0/20 Batch 1/3 Cost: 0.631385\n",
      "Epoch    0/20 Batch 2/3 Cost: 0.489271\n",
      "Epoch    0/20 Batch 3/3 Cost: 0.263342\n",
      "Epoch    1/20 Batch 1/3 Cost: 0.087662\n",
      "Epoch    1/20 Batch 2/3 Cost: 1.182167\n",
      "Epoch    1/20 Batch 3/3 Cost: 1.009974\n",
      "Epoch    2/20 Batch 1/3 Cost: 0.249511\n",
      "Epoch    2/20 Batch 2/3 Cost: 0.399047\n",
      "Epoch    2/20 Batch 3/3 Cost: 1.663099\n",
      "Epoch    3/20 Batch 1/3 Cost: 0.780848\n",
      "Epoch    3/20 Batch 2/3 Cost: 0.303824\n",
      "Epoch    3/20 Batch 3/3 Cost: 0.415263\n",
      "Epoch    4/20 Batch 1/3 Cost: 0.642422\n",
      "Epoch    4/20 Batch 2/3 Cost: 0.568638\n",
      "Epoch    4/20 Batch 3/3 Cost: 0.473454\n",
      "Epoch    5/20 Batch 1/3 Cost: 0.388931\n",
      "Epoch    5/20 Batch 2/3 Cost: 1.075350\n",
      "Epoch    5/20 Batch 3/3 Cost: 0.245670\n",
      "Epoch    6/20 Batch 1/3 Cost: 0.278228\n",
      "Epoch    6/20 Batch 2/3 Cost: 0.967018\n",
      "Epoch    6/20 Batch 3/3 Cost: 0.280802\n",
      "Epoch    7/20 Batch 1/3 Cost: 0.719383\n",
      "Epoch    7/20 Batch 2/3 Cost: 0.681306\n",
      "Epoch    7/20 Batch 3/3 Cost: 0.169005\n",
      "Epoch    8/20 Batch 1/3 Cost: 0.285097\n",
      "Epoch    8/20 Batch 2/3 Cost: 0.508949\n",
      "Epoch    8/20 Batch 3/3 Cost: 1.020582\n",
      "Epoch    9/20 Batch 1/3 Cost: 0.459222\n",
      "Epoch    9/20 Batch 2/3 Cost: 0.648063\n",
      "Epoch    9/20 Batch 3/3 Cost: 0.325483\n",
      "Epoch   10/20 Batch 1/3 Cost: 0.246193\n",
      "Epoch   10/20 Batch 2/3 Cost: 0.401703\n",
      "Epoch   10/20 Batch 3/3 Cost: 1.653196\n",
      "Epoch   11/20 Batch 1/3 Cost: 0.969367\n",
      "Epoch   11/20 Batch 2/3 Cost: 0.605262\n",
      "Epoch   11/20 Batch 3/3 Cost: 0.128822\n",
      "Epoch   12/20 Batch 1/3 Cost: 0.568164\n",
      "Epoch   12/20 Batch 2/3 Cost: 0.815596\n",
      "Epoch   12/20 Batch 3/3 Cost: 0.170237\n",
      "Epoch   13/20 Batch 1/3 Cost: 0.813483\n",
      "Epoch   13/20 Batch 2/3 Cost: 0.224881\n",
      "Epoch   13/20 Batch 3/3 Cost: 0.965692\n",
      "Epoch   14/20 Batch 1/3 Cost: 0.734143\n",
      "Epoch   14/20 Batch 2/3 Cost: 0.514588\n",
      "Epoch   14/20 Batch 3/3 Cost: 1.037360\n",
      "Epoch   15/20 Batch 1/3 Cost: 1.151960\n",
      "Epoch   15/20 Batch 2/3 Cost: 0.243603\n",
      "Epoch   15/20 Batch 3/3 Cost: 0.847970\n",
      "Epoch   16/20 Batch 1/3 Cost: 0.907709\n",
      "Epoch   16/20 Batch 2/3 Cost: 0.481635\n",
      "Epoch   16/20 Batch 3/3 Cost: 0.877162\n",
      "Epoch   17/20 Batch 1/3 Cost: 1.184581\n",
      "Epoch   17/20 Batch 2/3 Cost: 0.445639\n",
      "Epoch   17/20 Batch 3/3 Cost: 0.740415\n",
      "Epoch   18/20 Batch 1/3 Cost: 0.558776\n",
      "Epoch   18/20 Batch 2/3 Cost: 0.628090\n",
      "Epoch   18/20 Batch 3/3 Cost: 0.425552\n",
      "Epoch   19/20 Batch 1/3 Cost: 0.645978\n",
      "Epoch   19/20 Batch 2/3 Cost: 0.835735\n",
      "Epoch   19/20 Batch 3/3 Cost: 0.552769\n",
      "Epoch   20/20 Batch 1/3 Cost: 0.368318\n",
      "Epoch   20/20 Batch 2/3 Cost: 0.856776\n",
      "Epoch   20/20 Batch 3/3 Cost: 0.253138\n"
     ]
    }
   ],
   "source": [
    "nb_epochs = 20\n",
    "for epoch in range(nb_epochs +1):\n",
    "    for batch_idx, samples in enumerate(dataloader):\n",
    "        #print(batch_idx)\n",
    "        #print(samples)\n",
    "        x_train, y_train = samples\n",
    "        # H(x) 계산\n",
    "        prediction = model(x_train)\n",
    "        \n",
    "        # cost 계산\n",
    "        cost = F.mse_loss(prediction, y_train)\n",
    "        \n",
    "        # cost로 H(x) 계산\n",
    "        optimizer.zero_grad()\n",
    "        cost.backward()\n",
    "        optimizer.step()\n",
    "        \n",
    "        print('Epoch {:4d}/{} Batch {}/{} Cost: {:.6f}'.format(epoch, nb_epochs, batch_idx+1, len(dataloader), cost.item()))"
   ]
  },
  {
   "cell_type": "code",
   "execution_count": null,
   "id": "4ec87162",
   "metadata": {},
   "outputs": [],
   "source": []
  }
 ],
 "metadata": {
  "kernelspec": {
   "display_name": "Python 3",
   "language": "python",
   "name": "python3"
  },
  "language_info": {
   "codemirror_mode": {
    "name": "ipython",
    "version": 3
   },
   "file_extension": ".py",
   "mimetype": "text/x-python",
   "name": "python",
   "nbconvert_exporter": "python",
   "pygments_lexer": "ipython3",
   "version": "3.8.11"
  }
 },
 "nbformat": 4,
 "nbformat_minor": 5
}
