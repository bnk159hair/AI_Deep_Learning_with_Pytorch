{
 "cells": [
  {
   "cell_type": "code",
   "execution_count": 1,
   "id": "718bc2f9",
   "metadata": {},
   "outputs": [],
   "source": [
    "import torch\n",
    "import torch.nn as nn\n",
    "import torch.nn.functional as F"
   ]
  },
  {
   "cell_type": "code",
   "execution_count": 2,
   "id": "ee43c5a4",
   "metadata": {},
   "outputs": [
    {
     "data": {
      "text/plain": [
       "<torch._C.Generator at 0x1862ff952d0>"
      ]
     },
     "execution_count": 2,
     "metadata": {},
     "output_type": "execute_result"
    }
   ],
   "source": [
    "torch.manual_seed(1)"
   ]
  },
  {
   "cell_type": "code",
   "execution_count": 3,
   "id": "9c55d8b6",
   "metadata": {},
   "outputs": [],
   "source": [
    "x_train = torch.FloatTensor([[1], [2], [3]])\n",
    "y_train = torch.FloatTensor([[2], [4], [6]])"
   ]
  },
  {
   "cell_type": "code",
   "execution_count": 24,
   "id": "5d6c9bef",
   "metadata": {},
   "outputs": [],
   "source": [
    "class LinearRegressionModel(nn.Module):\n",
    "    def __init__(self):\n",
    "        super().__init__()\n",
    "        self.linear = nn.Linear(1, 1)\n",
    "    \n",
    "    def forward(self, x):\n",
    "        return self.linear(x)\n",
    "    "
   ]
  },
  {
   "cell_type": "code",
   "execution_count": 25,
   "id": "c5cb9266",
   "metadata": {},
   "outputs": [],
   "source": [
    "model = LinearRegressionModel()"
   ]
  },
  {
   "cell_type": "code",
   "execution_count": 26,
   "id": "9e242bce",
   "metadata": {},
   "outputs": [],
   "source": [
    "# optimizer 설정. 경사 하강법 SGD를 사용하고 learning rate를 의미하는 lr은 0.01\n",
    "optimizer = torch.optim.SGD(model.parameters(), lr=0.01)"
   ]
  },
  {
   "cell_type": "code",
   "execution_count": 28,
   "id": "35ff7c7b",
   "metadata": {},
   "outputs": [
    {
     "name": "stdout",
     "output_type": "stream",
     "text": [
      "Epoch     0/2000 Cost: 17.088327\n",
      "Epoch   100/2000 Cost: 0.030164\n",
      "Epoch   200/2000 Cost: 0.018639\n",
      "Epoch   300/2000 Cost: 0.011518\n",
      "Epoch   400/2000 Cost: 0.007117\n",
      "Epoch   500/2000 Cost: 0.004398\n",
      "Epoch   600/2000 Cost: 0.002718\n",
      "Epoch   700/2000 Cost: 0.001679\n",
      "Epoch   800/2000 Cost: 0.001038\n",
      "Epoch   900/2000 Cost: 0.000641\n",
      "Epoch  1000/2000 Cost: 0.000396\n",
      "Epoch  1100/2000 Cost: 0.000245\n",
      "Epoch  1200/2000 Cost: 0.000151\n",
      "Epoch  1300/2000 Cost: 0.000094\n",
      "Epoch  1400/2000 Cost: 0.000058\n",
      "Epoch  1500/2000 Cost: 0.000036\n",
      "Epoch  1600/2000 Cost: 0.000022\n",
      "Epoch  1700/2000 Cost: 0.000014\n",
      "Epoch  1800/2000 Cost: 0.000008\n",
      "Epoch  1900/2000 Cost: 0.000005\n",
      "Epoch  2000/2000 Cost: 0.000003\n"
     ]
    }
   ],
   "source": [
    "# 전체 훈련 데이터에 대해 경사 하강법을 2,000회 반복\n",
    "nb_epochs = 2000\n",
    "for epoch in range(nb_epochs+1):\n",
    "    \n",
    "    # H(x) 계산\n",
    "    prediction = model(x_train)\n",
    "    \n",
    "    # cost 계산\n",
    "    cost = F.mse_loss(prediction, y_train) # <-파이토치에서 제공하는 평균 제곱 오차 함수\n",
    "    \n",
    "    # cost로 H(x) 개선하는 부분\n",
    "    # gradient를 0으로 초기화\n",
    "    optimizer.zero_grad()\n",
    "    # 비용 함수를 미분하여 gradient 계산\n",
    "    cost.backward() # backward 연산\n",
    "    # W와 b를 업데이트\n",
    "    optimizer.step()\n",
    "    \n",
    "    if epoch % 100 ==0:\n",
    "        # 100번마다 로그 출력 \n",
    "        print('Epoch  {:4d}/{} Cost: {:.6f}'.format(epoch, nb_epochs, cost.item()))"
   ]
  },
  {
   "cell_type": "code",
   "execution_count": null,
   "id": "0acea51c",
   "metadata": {},
   "outputs": [],
   "source": []
  }
 ],
 "metadata": {
  "kernelspec": {
   "display_name": "Python 3",
   "language": "python",
   "name": "python3"
  },
  "language_info": {
   "codemirror_mode": {
    "name": "ipython",
    "version": 3
   },
   "file_extension": ".py",
   "mimetype": "text/x-python",
   "name": "python",
   "nbconvert_exporter": "python",
   "pygments_lexer": "ipython3",
   "version": "3.8.11"
  }
 },
 "nbformat": 4,
 "nbformat_minor": 5
}
