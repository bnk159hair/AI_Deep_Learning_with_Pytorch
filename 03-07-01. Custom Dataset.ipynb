{
 "cells": [
  {
   "cell_type": "code",
   "execution_count": 1,
   "id": "8e65e56d",
   "metadata": {},
   "outputs": [],
   "source": [
    "import torch \n",
    "import torch.nn.functional as F"
   ]
  },
  {
   "cell_type": "code",
   "execution_count": 2,
   "id": "1dc7898f",
   "metadata": {},
   "outputs": [],
   "source": [
    "from torch.utils.data import Dataset\n",
    "from torch.utils.data import DataLoader"
   ]
  },
  {
   "cell_type": "code",
   "execution_count": 6,
   "id": "66970b4f",
   "metadata": {},
   "outputs": [],
   "source": [
    "# Dataset 상속\n",
    "class CustomDataset(Dataset):\n",
    "    def __init__(self):\n",
    "        self.x_data = [[73, 80, 75],\n",
    "                   [93, 88, 93],\n",
    "                   [89, 91, 90],\n",
    "                   [96, 98, 100],\n",
    "                   [73, 66, 70]]\n",
    "        self.y_data = [[152], [185], [180], [196], [142]]\n",
    "        \n",
    "    # 총 데이터의 개수를 리턴\n",
    "    def __len__(self):\n",
    "        return len(self.x_data)\n",
    "    \n",
    "    # 인덱스를 입력받아 그에 맵핑되는 입출력 데이터를 파이토치의 Tensor 형태로 리턴\n",
    "    def __getitem__(self, idx):\n",
    "        x = torch.FloatTensor(self.x_data[idx])\n",
    "        y = torch.FloatTensor(self.y_data[idx])\n",
    "        return x, y"
   ]
  },
  {
   "cell_type": "code",
   "execution_count": 7,
   "id": "b3e2e461",
   "metadata": {},
   "outputs": [],
   "source": [
    "dataset = CustomDataset()\n",
    "dataloader = DataLoader(dataset, batch_size=2, shuffle=True)"
   ]
  },
  {
   "cell_type": "code",
   "execution_count": 8,
   "id": "8b5aa848",
   "metadata": {},
   "outputs": [],
   "source": [
    "model = torch.nn.Linear(3,1)\n",
    "optimizer = torch.optim.SGD(model.parameters(), lr=1e-5)"
   ]
  },
  {
   "cell_type": "code",
   "execution_count": 11,
   "id": "4a33f1e2",
   "metadata": {},
   "outputs": [
    {
     "name": "stdout",
     "output_type": "stream",
     "text": [
      "Epoch    0/20 Batch 1/3 Cost: 26631.140625\n",
      "Epoch    0/20 Batch 2/3 Cost: 10800.490234\n",
      "Epoch    0/20 Batch 3/3 Cost: 1483.815430\n",
      "Epoch    1/20 Batch 1/3 Cost: 1127.233643\n",
      "Epoch    1/20 Batch 2/3 Cost: 235.301758\n",
      "Epoch    1/20 Batch 3/3 Cost: 75.730309\n",
      "Epoch    2/20 Batch 1/3 Cost: 22.043056\n",
      "Epoch    2/20 Batch 2/3 Cost: 15.637109\n",
      "Epoch    2/20 Batch 3/3 Cost: 9.177195\n",
      "Epoch    3/20 Batch 1/3 Cost: 0.158489\n",
      "Epoch    3/20 Batch 2/3 Cost: 2.644958\n",
      "Epoch    3/20 Batch 3/3 Cost: 1.997890\n",
      "Epoch    4/20 Batch 1/3 Cost: 1.498374\n",
      "Epoch    4/20 Batch 2/3 Cost: 0.627399\n",
      "Epoch    4/20 Batch 3/3 Cost: 3.428171\n",
      "Epoch    5/20 Batch 1/3 Cost: 1.042058\n",
      "Epoch    5/20 Batch 2/3 Cost: 3.668861\n",
      "Epoch    5/20 Batch 3/3 Cost: 0.159385\n",
      "Epoch    6/20 Batch 1/3 Cost: 1.305803\n",
      "Epoch    6/20 Batch 2/3 Cost: 1.841622\n",
      "Epoch    6/20 Batch 3/3 Cost: 0.247124\n",
      "Epoch    7/20 Batch 1/3 Cost: 1.712610\n",
      "Epoch    7/20 Batch 2/3 Cost: 1.297187\n",
      "Epoch    7/20 Batch 3/3 Cost: 0.663210\n",
      "Epoch    8/20 Batch 1/3 Cost: 2.240119\n",
      "Epoch    8/20 Batch 2/3 Cost: 0.221527\n",
      "Epoch    8/20 Batch 3/3 Cost: 2.293698\n",
      "Epoch    9/20 Batch 1/3 Cost: 0.929849\n",
      "Epoch    9/20 Batch 2/3 Cost: 1.264831\n",
      "Epoch    9/20 Batch 3/3 Cost: 3.050282\n",
      "Epoch   10/20 Batch 1/3 Cost: 2.542940\n",
      "Epoch   10/20 Batch 2/3 Cost: 2.615381\n",
      "Epoch   10/20 Batch 3/3 Cost: 0.714208\n",
      "Epoch   11/20 Batch 1/3 Cost: 0.898827\n",
      "Epoch   11/20 Batch 2/3 Cost: 1.419586\n",
      "Epoch   11/20 Batch 3/3 Cost: 2.217934\n",
      "Epoch   12/20 Batch 1/3 Cost: 2.161081\n",
      "Epoch   12/20 Batch 2/3 Cost: 1.271713\n",
      "Epoch   12/20 Batch 3/3 Cost: 0.134703\n",
      "Epoch   13/20 Batch 1/3 Cost: 0.957649\n",
      "Epoch   13/20 Batch 2/3 Cost: 1.030246\n",
      "Epoch   13/20 Batch 3/3 Cost: 4.243087\n",
      "Epoch   14/20 Batch 1/3 Cost: 1.311594\n",
      "Epoch   14/20 Batch 2/3 Cost: 1.513988\n",
      "Epoch   14/20 Batch 3/3 Cost: 0.912582\n",
      "Epoch   15/20 Batch 1/3 Cost: 2.172740\n",
      "Epoch   15/20 Batch 2/3 Cost: 0.992983\n",
      "Epoch   15/20 Batch 3/3 Cost: 0.205973\n",
      "Epoch   16/20 Batch 1/3 Cost: 0.873895\n",
      "Epoch   16/20 Batch 2/3 Cost: 1.698193\n",
      "Epoch   16/20 Batch 3/3 Cost: 1.760108\n",
      "Epoch   17/20 Batch 1/3 Cost: 2.198418\n",
      "Epoch   17/20 Batch 2/3 Cost: 0.981075\n",
      "Epoch   17/20 Batch 3/3 Cost: 1.327228\n",
      "Epoch   18/20 Batch 1/3 Cost: 0.136828\n",
      "Epoch   18/20 Batch 2/3 Cost: 1.800378\n",
      "Epoch   18/20 Batch 3/3 Cost: 3.574982\n",
      "Epoch   19/20 Batch 1/3 Cost: 1.107314\n",
      "Epoch   19/20 Batch 2/3 Cost: 2.036016\n",
      "Epoch   19/20 Batch 3/3 Cost: 1.893396\n",
      "Epoch   20/20 Batch 1/3 Cost: 2.329121\n",
      "Epoch   20/20 Batch 2/3 Cost: 0.972211\n",
      "Epoch   20/20 Batch 3/3 Cost: 0.652344\n"
     ]
    }
   ],
   "source": [
    "nb_epochs = 20\n",
    "for epoch in range(nb_epochs+1):\n",
    "    for batch_idx, samples in enumerate(dataloader):\n",
    "        # print(batch_idx)\n",
    "        # print(samples)\n",
    "        x_train, y_train = samples\n",
    "        # H(x) 계산\n",
    "        prediction = model(x_train)\n",
    "        \n",
    "        # cost 계산\n",
    "        cost = F.mse_loss(prediction, y_train)\n",
    "        \n",
    "        # cost로 H(x) 계산\n",
    "        optimizer.zero_grad()\n",
    "        cost.backward()\n",
    "        optimizer.step()\n",
    "        \n",
    "        print('Epoch {:4d}/{} Batch {}/{} Cost: {:.6f}'.format(\n",
    "        epoch, nb_epochs, batch_idx+1, len(dataloader),\n",
    "        cost.item()\n",
    "        ))\n",
    "    "
   ]
  },
  {
   "cell_type": "code",
   "execution_count": null,
   "id": "c78d1d97",
   "metadata": {},
   "outputs": [],
   "source": []
  }
 ],
 "metadata": {
  "kernelspec": {
   "display_name": "Python 3",
   "language": "python",
   "name": "python3"
  },
  "language_info": {
   "codemirror_mode": {
    "name": "ipython",
    "version": 3
   },
   "file_extension": ".py",
   "mimetype": "text/x-python",
   "name": "python",
   "nbconvert_exporter": "python",
   "pygments_lexer": "ipython3",
   "version": "3.8.11"
  }
 },
 "nbformat": 4,
 "nbformat_minor": 5
}
